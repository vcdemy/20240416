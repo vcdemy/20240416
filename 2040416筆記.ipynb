{
 "cells": [
  {
   "cell_type": "markdown",
   "id": "004a4f0a-3150-4fa4-a178-0acd525f4580",
   "metadata": {},
   "source": [
    "# 20240416 筆記"
   ]
  },
  {
   "cell_type": "markdown",
   "id": "f8077df9-6b98-4230-9db1-702d9f74b3e3",
   "metadata": {},
   "source": [
    "## 綜合練習 01\n",
    "\n",
    "https://scikit-learn.org/stable/datasets/toy_dataset.html\n",
    "\n",
    "分析一下 sklearn 裡面的 wine dataset。"
   ]
  },
  {
   "cell_type": "markdown",
   "id": "d2f930f1-ef42-43b9-b200-c74974e85ec7",
   "metadata": {},
   "source": [
    "### 讀入 wine dataset"
   ]
  },
  {
   "cell_type": "code",
   "execution_count": 1,
   "id": "73cfd69d-9ad2-4a45-b2e4-d0ced1243058",
   "metadata": {},
   "outputs": [],
   "source": [
    "from sklearn.datasets import load_wine"
   ]
  },
  {
   "cell_type": "code",
   "execution_count": 2,
   "id": "2af38598-0bfb-4353-905d-1141671e4313",
   "metadata": {},
   "outputs": [],
   "source": [
    "wine = load_wine()"
   ]
  },
  {
   "cell_type": "code",
   "execution_count": 3,
   "id": "627f8b79-f89c-4063-a399-fac41835efae",
   "metadata": {},
   "outputs": [],
   "source": [
    "X = wine.data"
   ]
  },
  {
   "cell_type": "code",
   "execution_count": 4,
   "id": "fcca00a1-74d1-471a-b845-f904b35d2056",
   "metadata": {},
   "outputs": [],
   "source": [
    "y = wine.target"
   ]
  },
  {
   "cell_type": "code",
   "execution_count": 5,
   "id": "d94bb469-7a89-40cc-b922-8a97fc69a72e",
   "metadata": {},
   "outputs": [
    {
     "data": {
      "text/plain": [
       "array([1.423e+01, 1.710e+00, 2.430e+00, 1.560e+01, 1.270e+02, 2.800e+00,\n",
       "       3.060e+00, 2.800e-01, 2.290e+00, 5.640e+00, 1.040e+00, 3.920e+00,\n",
       "       1.065e+03])"
      ]
     },
     "execution_count": 5,
     "metadata": {},
     "output_type": "execute_result"
    }
   ],
   "source": [
    "X[0]"
   ]
  },
  {
   "cell_type": "code",
   "execution_count": 6,
   "id": "9402b02c-77d1-4a37-b1b8-c65ef815c0bb",
   "metadata": {},
   "outputs": [
    {
     "data": {
      "text/plain": [
       "0"
      ]
     },
     "execution_count": 6,
     "metadata": {},
     "output_type": "execute_result"
    }
   ],
   "source": [
    "y[0]"
   ]
  },
  {
   "cell_type": "code",
   "execution_count": 7,
   "id": "f3c38dfa-809d-4f64-8259-359f117d49e3",
   "metadata": {},
   "outputs": [
    {
     "data": {
      "text/plain": [
       "(178, 13)"
      ]
     },
     "execution_count": 7,
     "metadata": {},
     "output_type": "execute_result"
    }
   ],
   "source": [
    "X.shape"
   ]
  },
  {
   "cell_type": "code",
   "execution_count": 8,
   "id": "30636949-a557-4927-80b7-7b53f4d0daa4",
   "metadata": {},
   "outputs": [
    {
     "data": {
      "text/plain": [
       "(178,)"
      ]
     },
     "execution_count": 8,
     "metadata": {},
     "output_type": "execute_result"
    }
   ],
   "source": [
    "y.shape"
   ]
  },
  {
   "cell_type": "markdown",
   "id": "ef246313-32ac-4ce0-a710-07b2faa8d0f4",
   "metadata": {},
   "source": [
    "### 將資料分成訓練集及測試集資料"
   ]
  },
  {
   "cell_type": "code",
   "execution_count": null,
   "id": "25ae3464-583c-4edc-b055-127e5bb95c75",
   "metadata": {},
   "outputs": [],
   "source": []
  },
  {
   "cell_type": "markdown",
   "id": "4474777e-b9ae-418a-bf08-13e0f11e2049",
   "metadata": {},
   "source": [
    "### 使用SVM來做分類"
   ]
  },
  {
   "cell_type": "code",
   "execution_count": null,
   "id": "35cfead3-9660-403b-aacc-e3af96e3d908",
   "metadata": {},
   "outputs": [],
   "source": []
  }
 ],
 "metadata": {
  "kernelspec": {
   "display_name": "Python 3 (ipykernel)",
   "language": "python",
   "name": "python3"
  },
  "language_info": {
   "codemirror_mode": {
    "name": "ipython",
    "version": 3
   },
   "file_extension": ".py",
   "mimetype": "text/x-python",
   "name": "python",
   "nbconvert_exporter": "python",
   "pygments_lexer": "ipython3",
   "version": "3.12.3"
  }
 },
 "nbformat": 4,
 "nbformat_minor": 5
}
